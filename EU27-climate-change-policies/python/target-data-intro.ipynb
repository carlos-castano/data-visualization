{
 "cells": [
  {
   "cell_type": "markdown",
   "metadata": {},
   "source": [
    "Here, the percentage reduction in emissions is calculated based on the latest data available today (2023), taking into account:\n",
    "* 2030 target: 55% reduction from 1990 levels\n",
    "* 2050 target: at least 80% reduction from 1990 levels"
   ]
  },
  {
   "cell_type": "code",
   "execution_count": 1,
   "metadata": {},
   "outputs": [],
   "source": [
    "import pandas as pd\n",
    "\n",
    "df = pd.read_csv('data/greenhouse-gas-emissions.csv')\n",
    "df.rename(columns={'Annual greenhouse gas emissions in CO₂ equivalents': 'Emissions'}, inplace=True)\n",
    "df['Entity'] = df['Entity'].replace('European Union (27)', 'EU 27')"
   ]
  },
  {
   "cell_type": "code",
   "execution_count": null,
   "metadata": {},
   "outputs": [
    {
     "name": "stdout",
     "output_type": "stream",
     "text": [
      "Original (1990): 4876350000.0\n",
      "2023 3105165600.0\n",
      "2030: 2194357500.000 \n",
      "2050: 975270000.000\n"
     ]
    }
   ],
   "source": [
    "original = df.loc[(df['Entity'] == 'EU 27') & (df['Year'] == 1990), 'Emissions'].values[0]\n",
    "today2023 = df.loc[(df['Entity'] == 'EU 27') & (df['Year'] == 2023), 'Emissions'].values[0]\n",
    "\n",
    "percent2030 = original * 0.55\n",
    "goal2030 = original - percent2030\n",
    "\n",
    "percent2050 = original * 0.8\n",
    "goal2050 = original - percent2050\n",
    "\n",
    "print(f\"Original (1990): {original}\\n2023 {today2023}\\n2030: {goal2030:.3f}\", f\"\\n2050: {goal2050:.3f}\")"
   ]
  },
  {
   "cell_type": "code",
   "execution_count": 3,
   "metadata": {},
   "outputs": [
    {
     "name": "stdout",
     "output_type": "stream",
     "text": [
      "Reduction: 29.33%\n",
      "Reduction: 68.59%\n"
     ]
    }
   ],
   "source": [
    "reduction2030 = (today2023 - goal2030) / today2023 * 100\n",
    "print(f\"Reduction: {reduction2030:.2f}%\")\n",
    "reduction2050 = (today2023 - goal2050) / today2023 * 100\n",
    "print(f\"Reduction: {reduction2050:.2f}%\")"
   ]
  }
 ],
 "metadata": {
  "kernelspec": {
   "display_name": ".venv",
   "language": "python",
   "name": "python3"
  },
  "language_info": {
   "codemirror_mode": {
    "name": "ipython",
    "version": 3
   },
   "file_extension": ".py",
   "mimetype": "text/x-python",
   "name": "python",
   "nbconvert_exporter": "python",
   "pygments_lexer": "ipython3",
   "version": "3.12.5"
  }
 },
 "nbformat": 4,
 "nbformat_minor": 2
}
