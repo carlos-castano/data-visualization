{
 "cells": [
  {
   "cell_type": "code",
   "execution_count": 19,
   "metadata": {},
   "outputs": [],
   "source": [
    "import pandas as pd\n",
    "# https://ec.europa.eu/eurostat/databrowser/product/view/env_air_gge\n",
    "df = pd.read_csv(\"data/co2-eq-by-sector(EU27).csv\") # unit Million tonnes of CO2 equivalent\n",
    "\n",
    "# These categories contain all other data nested in them\n",
    "categories = [\n",
    "    \"Energy\",\n",
    "    \"Industrial processes and product use\",\n",
    "    \"Agriculture\",\n",
    "    \"Waste management\",\n",
    "    \"Land use, land use change, and forestry (LULUCF)\",\n",
    "    \"Other sectors\"\n",
    "]\n",
    "\n",
    "df = df.rename(columns={\n",
    "    \"src_crf\": \"sector\",\n",
    "    \"geo\": \"country\",\n",
    "    \"TIME_PERIOD\": \"year\",\n",
    "    \"OBS_VALUE\": \"value\"\n",
    "})\n",
    "\n",
    "df = df[[\"sector\", \"country\", \"year\", \"value\"]]"
   ]
  },
  {
   "cell_type": "code",
   "execution_count": null,
   "metadata": {},
   "outputs": [],
   "source": [
    "df = df[df['sector'].isin(categories)]\n",
    "\n",
    "# Filter:\n",
    "# 2022 latest data avaible at the time\n",
    "# LULUCF sector is not included as it offers negative emission values (it does not pollute)\n",
    "# \"Other sectors\" are not included either, as they represent a very residual value (irrelevant to the purpose)\n",
    "df = df[\n",
    "    (df['country'] == \"European Union - 27 countries (from 2020)\") &\n",
    "    (df['year'] == 2022) &\n",
    "    (df['sector'].isin([\"Energy\", \"Industrial processes and product use\", \"Agriculture\", \"Waste management\"]))\n",
    "]\n",
    "\n",
    "df22 = df.drop(columns=[\"country\", \"year\"])\n",
    "df22['percentage'] = df22['value'] / df22['value'].sum() * 100\n",
    "df22 = df22.round(2)"
   ]
  },
  {
   "cell_type": "code",
   "execution_count": 21,
   "metadata": {},
   "outputs": [
    {
     "name": "stdout",
     "output_type": "stream",
     "text": [
      "const sectors = [\n",
      "    {'sector': 'Energy', 'value': 2603.85, 'percentage': 77.24},\n",
      "    {'sector': 'Industrial processes and product use', 'value': 291.84, 'percentage': 8.66},\n",
      "    {'sector': 'Agriculture', 'value': 365.72, 'percentage': 10.85},\n",
      "    {'sector': 'Waste management', 'value': 109.71, 'percentage': 3.25},\n",
      "]\n"
     ]
    }
   ],
   "source": [
    "# copy-paste to .js\n",
    "output = \"const sectors = [\\n\"\n",
    "for i, row in df22.iterrows():\n",
    "    output += f\"    {row.to_dict()},\\n\"\n",
    "output += \"]\"\n",
    "print(output)"
   ]
  }
 ],
 "metadata": {
  "kernelspec": {
   "display_name": ".venv",
   "language": "python",
   "name": "python3"
  },
  "language_info": {
   "codemirror_mode": {
    "name": "ipython",
    "version": 3
   },
   "file_extension": ".py",
   "mimetype": "text/x-python",
   "name": "python",
   "nbconvert_exporter": "python",
   "pygments_lexer": "ipython3",
   "version": "3.12.5"
  }
 },
 "nbformat": 4,
 "nbformat_minor": 2
}
