{
 "cells": [
  {
   "cell_type": "markdown",
   "metadata": {},
   "source": [
    "### 1. Load data"
   ]
  },
  {
   "cell_type": "markdown",
   "metadata": {},
   "source": [
    "Data on social values were obtained (and then transformed) from [World Values Survey](https://www.worldvaluessurvey.org/wvs.jsp) under this considerations:\n",
    "- Latest survey conducted from 2016 to 2022 with code S025. If the country has not conducted any surveys during this period, it is not included.\n",
    "- Some country names have been changed to make them recognizable by Tableau.\n",
    "- Some continental regions are debatable in their membership and have been categorized by me. In this regard, the following factors have been taken into account: geographical location, cultural similarity or good relations and a balanced distribution by groups (e.g., North America & Oceania)."
   ]
  },
  {
   "cell_type": "code",
   "execution_count": 4,
   "metadata": {},
   "outputs": [
    {
     "data": {
      "text/html": [
       "<div>\n",
       "<style scoped>\n",
       "    .dataframe tbody tr th:only-of-type {\n",
       "        vertical-align: middle;\n",
       "    }\n",
       "\n",
       "    .dataframe tbody tr th {\n",
       "        vertical-align: top;\n",
       "    }\n",
       "\n",
       "    .dataframe thead th {\n",
       "        text-align: right;\n",
       "    }\n",
       "</style>\n",
       "<table border=\"1\" class=\"dataframe\">\n",
       "  <thead>\n",
       "    <tr style=\"text-align: right;\">\n",
       "      <th></th>\n",
       "      <th>Country</th>\n",
       "      <th>tradition_secular_axis</th>\n",
       "      <th>survival_selfexpression_axis</th>\n",
       "      <th>Year</th>\n",
       "      <th>population 2022</th>\n",
       "      <th>Region</th>\n",
       "      <th>Population Group</th>\n",
       "      <th>size</th>\n",
       "    </tr>\n",
       "  </thead>\n",
       "  <tbody>\n",
       "    <tr>\n",
       "      <th>0</th>\n",
       "      <td>Haiti</td>\n",
       "      <td>-0.47</td>\n",
       "      <td>-0.14</td>\n",
       "      <td>2016</td>\n",
       "      <td>11584996</td>\n",
       "      <td>Central &amp; South America</td>\n",
       "      <td>&lt;25M</td>\n",
       "      <td>5</td>\n",
       "    </tr>\n",
       "    <tr>\n",
       "      <th>1</th>\n",
       "      <td>Greece</td>\n",
       "      <td>0.20</td>\n",
       "      <td>-0.27</td>\n",
       "      <td>2017</td>\n",
       "      <td>10426919</td>\n",
       "      <td>Europe</td>\n",
       "      <td>&lt;25M</td>\n",
       "      <td>5</td>\n",
       "    </tr>\n",
       "    <tr>\n",
       "      <th>2</th>\n",
       "      <td>Finland</td>\n",
       "      <td>0.52</td>\n",
       "      <td>0.75</td>\n",
       "      <td>2017</td>\n",
       "      <td>5556106</td>\n",
       "      <td>Europe</td>\n",
       "      <td>&lt;25M</td>\n",
       "      <td>5</td>\n",
       "    </tr>\n",
       "    <tr>\n",
       "      <th>3</th>\n",
       "      <td>Denmark</td>\n",
       "      <td>0.65</td>\n",
       "      <td>0.92</td>\n",
       "      <td>2017</td>\n",
       "      <td>5903037</td>\n",
       "      <td>Europe</td>\n",
       "      <td>&lt;25M</td>\n",
       "      <td>5</td>\n",
       "    </tr>\n",
       "    <tr>\n",
       "      <th>4</th>\n",
       "      <td>Switzerland</td>\n",
       "      <td>0.44</td>\n",
       "      <td>0.71</td>\n",
       "      <td>2017</td>\n",
       "      <td>8775760</td>\n",
       "      <td>Europe</td>\n",
       "      <td>&lt;25M</td>\n",
       "      <td>5</td>\n",
       "    </tr>\n",
       "  </tbody>\n",
       "</table>\n",
       "</div>"
      ],
      "text/plain": [
       "       Country  tradition_secular_axis  survival_selfexpression_axis  Year  \\\n",
       "0        Haiti                   -0.47                         -0.14  2016   \n",
       "1       Greece                    0.20                         -0.27  2017   \n",
       "2      Finland                    0.52                          0.75  2017   \n",
       "3      Denmark                    0.65                          0.92  2017   \n",
       "4  Switzerland                    0.44                          0.71  2017   \n",
       "\n",
       "   population 2022                   Region Population Group  size  \n",
       "0         11584996  Central & South America             <25M     5  \n",
       "1         10426919                   Europe             <25M     5  \n",
       "2          5556106                   Europe             <25M     5  \n",
       "3          5903037                   Europe             <25M     5  \n",
       "4          8775760                   Europe             <25M     5  "
      ]
     },
     "execution_count": 4,
     "metadata": {},
     "output_type": "execute_result"
    }
   ],
   "source": [
    "import pandas as pd\n",
    "\n",
    "df = pd.read_csv('world_values.csv')\n",
    "df['population 2022'] = df['population 2022'].astype(int)\n",
    "df.head()"
   ]
  },
  {
   "cell_type": "code",
   "execution_count": 5,
   "metadata": {},
   "outputs": [
    {
     "name": "stdout",
     "output_type": "stream",
     "text": [
      "5245048709\n"
     ]
    }
   ],
   "source": [
    "# Obviously, the sum of the population in 2022 is not equal to the world population\n",
    "# Data from: https://data.worldbank.org/indicator/SP.POP.TOTL?end=2022\n",
    "print(df['population 2022'].sum())"
   ]
  },
  {
   "cell_type": "code",
   "execution_count": null,
   "metadata": {},
   "outputs": [
    {
     "name": "stdout",
     "output_type": "stream",
     "text": [
      "Region\n",
      "Africa                      462083248\n",
      "Central & South America     468136660\n",
      "Central Asia                272911319\n",
      "East Asia                  2418256079\n",
      "East Europe & West Asia     198871660\n",
      "Europe                      541338895\n",
      "Middle East                 352604657\n",
      "North America & Oceania     530846191\n",
      "Name: population 2022, dtype: int64\n"
     ]
    }
   ],
   "source": [
    "print(df.groupby('Region')['population 2022'].sum())"
   ]
  },
  {
   "cell_type": "markdown",
   "metadata": {},
   "source": [
    "### 2. Categorization and its values for the pie chart"
   ]
  },
  {
   "cell_type": "code",
   "execution_count": null,
   "metadata": {},
   "outputs": [
    {
     "name": "stdout",
     "output_type": "stream",
     "text": [
      "-1 to -0.5:  25.585883477064197\n",
      "-1 to -0.5 total:  1341992051\n",
      "\n",
      "-0.5 to 0:  26.868658561393733\n",
      "-0.5 to 0 total:  1409274229\n",
      "\n",
      "0 to 0.5:  40.13080233913229\n",
      "0 to 0.5 total:  2104880130\n",
      "\n",
      "0.5 to 1:  7.647715612472876\n",
      "0.5 to 1 total:  401126409\n"
     ]
    }
   ],
   "source": [
    "df2 = df.copy()\n",
    "# Index based on the avg since both extremes represent the same category or set of values\n",
    "df2['Conservative_Liberal'] = (df['tradition_secular_axis'] + df['survival_selfexpression_axis']) / 2\n",
    "\n",
    "# Create vars to use them latter\n",
    "df2_minusOne_to_minusZeroFive = df2[(df2['Conservative_Liberal'] >= -1) &\n",
    "                                    (df2['Conservative_Liberal'] <= -0.5)]\n",
    "df2_minusZeroFive_to_zero = df2[(df2['Conservative_Liberal'] >= -0.5) &\n",
    "                                (df2['Conservative_Liberal'] <= 0)]\n",
    "df2_zero_to_zeroFive = df2[(df2['Conservative_Liberal'] >= 0) &\n",
    "                            (df2['Conservative_Liberal'] <= 0.5)]\n",
    "df2_zeroFive_to_one = df2[(df2['Conservative_Liberal'] >= 0.5) &\n",
    "                            (df2['Conservative_Liberal'] <= 1)]\n",
    "\n",
    "total_population_by_region = df.groupby('Region')['population 2022'].sum().to_dict()\n",
    "\n",
    "global_polulation = df['population 2022'].sum()\n",
    "\n",
    "# Bc its not necesary to run a server, print to paste in .js \n",
    "print(\"-1 to -0.5: \", df2_minusOne_to_minusZeroFive['population 2022'].sum() / global_polulation * 100)\n",
    "print(\"-1 to -0.5 total: \", df2_minusOne_to_minusZeroFive['population 2022'].sum())\n",
    "print(\"\\n-0.5 to 0: \", df2_minusZeroFive_to_zero['population 2022'].sum() / global_polulation * 100)\n",
    "print(\"-0.5 to 0 total: \", df2_minusZeroFive_to_zero['population 2022'].sum())\n",
    "print(\"\\n0 to 0.5: \", df2_zero_to_zeroFive['population 2022'].sum() / global_polulation * 100)\n",
    "print(\"0 to 0.5 total: \", df2_zero_to_zeroFive['population 2022'].sum())\n",
    "print(\"\\n0.5 to 1: \", df2_zeroFive_to_one['population 2022'].sum() / global_polulation * 100)\n",
    "print(\"0.5 to 1 total: \", df2_zeroFive_to_one['population 2022'].sum())"
   ]
  },
  {
   "cell_type": "markdown",
   "metadata": {},
   "source": [
    "### 3. Bar plot with plotly to html"
   ]
  },
  {
   "cell_type": "code",
   "execution_count": 29,
   "metadata": {},
   "outputs": [
    {
     "data": {
      "application/vnd.plotly.v1+json": {
       "config": {
        "plotlyServerURL": "https://plot.ly"
       },
       "data": [
        {
         "alignmentgroup": "True",
         "customdata": [
          [
           "Japan: 0.66"
          ],
          [
           "Finland: 0.64<br>Denmark: 0.78<br>Switzerland: 0.57<br>Sweden: 0.85<br>Iceland: 0.63<br>Norway: 0.78<br>Andorra: 0.51<br>Germany: 0.6<br>Netherlands: 0.73<br>Great Britain: 0.64"
          ],
          [
           "Australia: 0.52<br>New Zealand: 0.63<br>Canada: 0.56"
          ]
         ],
         "hoverlabel": {
          "bgcolor": "#141313",
          "bordercolor": "rgba(0, 0, 0, 0)",
          "font": {
           "color": "white",
           "family": "sans-serif",
           "size": 16
          }
         },
         "hovertemplate": "%{customdata[0]}<extra></extra>",
         "legendgroup": "Liberal",
         "marker": {
          "color": "#e74c3c",
          "line": {
           "width": 0
          },
          "pattern": {
           "shape": ""
          }
         },
         "name": "Liberal",
         "offsetgroup": "Liberal",
         "orientation": "h",
         "showlegend": true,
         "textposition": "auto",
         "type": "bar",
         "x": [
          5.174182754530357,
          38.04100664150504,
          13.199803669684803
         ],
         "xaxis": "x",
         "y": [
          "East Asia",
          "Europe",
          "North America & Oceania"
         ],
         "yaxis": "y"
        },
        {
         "alignmentgroup": "True",
         "customdata": [
          [
           "Uruguay: 0.1"
          ],
          [
           "South Korea: 0.28<br>Thailand: 0.02<br>China: 0.09<br>Mongolia: 0.19"
          ],
          [
           "Spain: 0.38<br>Slovenia: 0.4<br>Bulgaria: 0.04<br>Italy: 0.19<br>Lithuania: 0.16<br>Hungary: 0.12<br>Estonia: 0.34<br>France: 0.44<br>Austria: 0.48<br>Latvia: 0.18<br>Czechia: 0.47<br>Slovakia: 0.18<br>Ireland: 0.29"
          ],
          [
           "United States: 0.24"
          ]
         ],
         "hoverlabel": {
          "bgcolor": "#141313",
          "bordercolor": "rgba(0, 0, 0, 0)",
          "font": {
           "color": "white",
           "family": "sans-serif",
           "size": 16
          }
         },
         "hovertemplate": "%{customdata[0]}<extra></extra>",
         "legendgroup": "Moderate Liberal",
         "marker": {
          "color": "#de8378",
          "line": {
           "width": 0
          },
          "pattern": {
           "shape": ""
          }
         },
         "name": "Moderate Liberal",
         "offsetgroup": "Moderate Liberal",
         "orientation": "h",
         "showlegend": true,
         "textposition": "auto",
         "type": "bar",
         "x": [
          0.731152736468022,
          63.6385442536088,
          42.34740236058597,
          62.78116272666258
         ],
         "xaxis": "x",
         "y": [
          "Central & South America",
          "East Asia",
          "Europe",
          "North America & Oceania"
         ],
         "yaxis": "y"
        },
        {
         "alignmentgroup": "True",
         "customdata": [
          [
           "Kenya: -0.39<br>Morocco: -0.31"
          ],
          [
           "Haiti: -0.3<br>Bolivia: -0.5<br>Argentina: -0.15<br>Puerto Rico: -0.4<br>Peru: -0.48<br>Chile: -0.02<br>Colombia: -0.48<br>Brazil: -0.17<br>Guatemala: -0.36<br>Venezuela: -0.42"
          ],
          [
           "Kazakhstan: -0.22"
          ],
          [
           "Malaysia: -0.12<br>Philippines: -0.46<br>Vietnam: -0.08<br>Singapore: -0.05"
          ],
          [
           "Russia: -0.06<br>Azerbaijan: -0.34<br>Ukraine: -0.02"
          ],
          [
           "Greece: -0.04<br>Croatia: -0.02<br>Poland: -0.08<br>Romania: -0.32<br>Serbia: -0.08<br>Albania: -0.44<br>Belarus: -0.03<br>Bosnia and Herzegovina: -0.21<br>Montenegro: -0.2<br>Cyprus: -0.28<br>North Macedonia: -0.09<br>Portugal: -0.08"
          ],
          [
           "Lebanon: -0.42<br>Turkey: -0.33<br>Iran: -0.4"
          ],
          [
           "Mexico: -0.34"
          ]
         ],
         "hoverlabel": {
          "bgcolor": "#141313",
          "bordercolor": "rgba(0, 0, 0, 0)",
          "font": {
           "color": "white",
           "family": "sans-serif",
           "size": 16
          }
         },
         "hovertemplate": "%{customdata[0]}<extra></extra>",
         "legendgroup": "Moderate Conservative",
         "marker": {
          "color": "#60a7d7",
          "line": {
           "width": 0
          },
          "pattern": {
           "shape": ""
          }
         },
         "name": "Moderate Conservative",
         "offsetgroup": "Moderate Conservative",
         "orientation": "h",
         "showlegend": true,
         "textposition": "auto",
         "type": "bar",
         "x": [
          19.798479688664237,
          93.93933685945467,
          7.194638563159046,
          10.475363225583356,
          96.73509488481164,
          19.61159099790899,
          50.770804765633024,
          24.019033603652627
         ],
         "xaxis": "x",
         "y": [
          "Africa",
          "Central & South America",
          "Central Asia",
          "East Asia",
          "East Europe & West Asia",
          "Europe",
          "Middle East",
          "North America & Oceania"
         ],
         "yaxis": "y"
        },
        {
         "alignmentgroup": "True",
         "customdata": [
          [
           "Nigeria: -0.68<br>Tunisia: -0.5<br>Zimbabwe: -0.58<br>Ethiopia: -0.64"
          ],
          [
           "Bolivia: -0.5<br>Ecuador: -0.57<br>Nicaragua: -0.64"
          ],
          [
           "Pakistan: -0.59<br>Tajikistan: -0.58<br>Kyrgyzstan: -0.57<br>Maldives: -0.59"
          ],
          [
           "Indonesia: -0.58<br>Bangladesh: -0.64<br>Myanmar: -0.54"
          ],
          [
           "Georgia: -0.52<br>Armenia: -0.58"
          ],
          [
           "Iraq: -0.56<br>Jordan: -0.76<br>Egypt: -0.73<br>Libya: -0.8"
          ]
         ],
         "hoverlabel": {
          "bgcolor": "#141313",
          "bordercolor": "rgba(0, 0, 0, 0)",
          "font": {
           "color": "white",
           "family": "sans-serif",
           "size": 16
          }
         },
         "hovertemplate": "%{customdata[0]}<extra></extra>",
         "legendgroup": "Conservative",
         "marker": {
          "color": "#3498db",
          "line": {
           "width": 0
          },
          "pattern": {
           "shape": ""
          }
         },
         "name": "Conservative",
         "offsetgroup": "Conservative",
         "orientation": "h",
         "showlegend": true,
         "textposition": "auto",
         "type": "bar",
         "x": [
          80.20152031133576,
          7.940737219768261,
          92.80536143684095,
          20.711909766277486,
          3.264905115188358,
          49.22919523436697
         ],
         "xaxis": "x",
         "y": [
          "Africa",
          "Central & South America",
          "Central Asia",
          "East Asia",
          "East Europe & West Asia",
          "Middle East"
         ],
         "yaxis": "y"
        }
       ],
       "layout": {
        "barmode": "stack",
        "font": {
         "color": "white",
         "family": "sans-serif",
         "size": 16,
         "weight": "bold"
        },
        "legend": {
         "title": {
          "text": "Group"
         },
         "tracegroupgap": 0
        },
        "margin": {
         "b": 35,
         "l": 50,
         "r": 30,
         "t": 30
        },
        "paper_bgcolor": "rgba(20, 20, 20, 0.01)",
        "plot_bgcolor": "rgba(20, 20, 20, 0.01)",
        "showlegend": true,
        "template": {
         "data": {
          "bar": [
           {
            "error_x": {
             "color": "#2a3f5f"
            },
            "error_y": {
             "color": "#2a3f5f"
            },
            "marker": {
             "line": {
              "color": "#E5ECF6",
              "width": 0.5
             },
             "pattern": {
              "fillmode": "overlay",
              "size": 10,
              "solidity": 0.2
             }
            },
            "type": "bar"
           }
          ],
          "barpolar": [
           {
            "marker": {
             "line": {
              "color": "#E5ECF6",
              "width": 0.5
             },
             "pattern": {
              "fillmode": "overlay",
              "size": 10,
              "solidity": 0.2
             }
            },
            "type": "barpolar"
           }
          ],
          "carpet": [
           {
            "aaxis": {
             "endlinecolor": "#2a3f5f",
             "gridcolor": "white",
             "linecolor": "white",
             "minorgridcolor": "white",
             "startlinecolor": "#2a3f5f"
            },
            "baxis": {
             "endlinecolor": "#2a3f5f",
             "gridcolor": "white",
             "linecolor": "white",
             "minorgridcolor": "white",
             "startlinecolor": "#2a3f5f"
            },
            "type": "carpet"
           }
          ],
          "choropleth": [
           {
            "colorbar": {
             "outlinewidth": 0,
             "ticks": ""
            },
            "type": "choropleth"
           }
          ],
          "contour": [
           {
            "colorbar": {
             "outlinewidth": 0,
             "ticks": ""
            },
            "colorscale": [
             [
              0,
              "#0d0887"
             ],
             [
              0.1111111111111111,
              "#46039f"
             ],
             [
              0.2222222222222222,
              "#7201a8"
             ],
             [
              0.3333333333333333,
              "#9c179e"
             ],
             [
              0.4444444444444444,
              "#bd3786"
             ],
             [
              0.5555555555555556,
              "#d8576b"
             ],
             [
              0.6666666666666666,
              "#ed7953"
             ],
             [
              0.7777777777777778,
              "#fb9f3a"
             ],
             [
              0.8888888888888888,
              "#fdca26"
             ],
             [
              1,
              "#f0f921"
             ]
            ],
            "type": "contour"
           }
          ],
          "contourcarpet": [
           {
            "colorbar": {
             "outlinewidth": 0,
             "ticks": ""
            },
            "type": "contourcarpet"
           }
          ],
          "heatmap": [
           {
            "colorbar": {
             "outlinewidth": 0,
             "ticks": ""
            },
            "colorscale": [
             [
              0,
              "#0d0887"
             ],
             [
              0.1111111111111111,
              "#46039f"
             ],
             [
              0.2222222222222222,
              "#7201a8"
             ],
             [
              0.3333333333333333,
              "#9c179e"
             ],
             [
              0.4444444444444444,
              "#bd3786"
             ],
             [
              0.5555555555555556,
              "#d8576b"
             ],
             [
              0.6666666666666666,
              "#ed7953"
             ],
             [
              0.7777777777777778,
              "#fb9f3a"
             ],
             [
              0.8888888888888888,
              "#fdca26"
             ],
             [
              1,
              "#f0f921"
             ]
            ],
            "type": "heatmap"
           }
          ],
          "heatmapgl": [
           {
            "colorbar": {
             "outlinewidth": 0,
             "ticks": ""
            },
            "colorscale": [
             [
              0,
              "#0d0887"
             ],
             [
              0.1111111111111111,
              "#46039f"
             ],
             [
              0.2222222222222222,
              "#7201a8"
             ],
             [
              0.3333333333333333,
              "#9c179e"
             ],
             [
              0.4444444444444444,
              "#bd3786"
             ],
             [
              0.5555555555555556,
              "#d8576b"
             ],
             [
              0.6666666666666666,
              "#ed7953"
             ],
             [
              0.7777777777777778,
              "#fb9f3a"
             ],
             [
              0.8888888888888888,
              "#fdca26"
             ],
             [
              1,
              "#f0f921"
             ]
            ],
            "type": "heatmapgl"
           }
          ],
          "histogram": [
           {
            "marker": {
             "pattern": {
              "fillmode": "overlay",
              "size": 10,
              "solidity": 0.2
             }
            },
            "type": "histogram"
           }
          ],
          "histogram2d": [
           {
            "colorbar": {
             "outlinewidth": 0,
             "ticks": ""
            },
            "colorscale": [
             [
              0,
              "#0d0887"
             ],
             [
              0.1111111111111111,
              "#46039f"
             ],
             [
              0.2222222222222222,
              "#7201a8"
             ],
             [
              0.3333333333333333,
              "#9c179e"
             ],
             [
              0.4444444444444444,
              "#bd3786"
             ],
             [
              0.5555555555555556,
              "#d8576b"
             ],
             [
              0.6666666666666666,
              "#ed7953"
             ],
             [
              0.7777777777777778,
              "#fb9f3a"
             ],
             [
              0.8888888888888888,
              "#fdca26"
             ],
             [
              1,
              "#f0f921"
             ]
            ],
            "type": "histogram2d"
           }
          ],
          "histogram2dcontour": [
           {
            "colorbar": {
             "outlinewidth": 0,
             "ticks": ""
            },
            "colorscale": [
             [
              0,
              "#0d0887"
             ],
             [
              0.1111111111111111,
              "#46039f"
             ],
             [
              0.2222222222222222,
              "#7201a8"
             ],
             [
              0.3333333333333333,
              "#9c179e"
             ],
             [
              0.4444444444444444,
              "#bd3786"
             ],
             [
              0.5555555555555556,
              "#d8576b"
             ],
             [
              0.6666666666666666,
              "#ed7953"
             ],
             [
              0.7777777777777778,
              "#fb9f3a"
             ],
             [
              0.8888888888888888,
              "#fdca26"
             ],
             [
              1,
              "#f0f921"
             ]
            ],
            "type": "histogram2dcontour"
           }
          ],
          "mesh3d": [
           {
            "colorbar": {
             "outlinewidth": 0,
             "ticks": ""
            },
            "type": "mesh3d"
           }
          ],
          "parcoords": [
           {
            "line": {
             "colorbar": {
              "outlinewidth": 0,
              "ticks": ""
             }
            },
            "type": "parcoords"
           }
          ],
          "pie": [
           {
            "automargin": true,
            "type": "pie"
           }
          ],
          "scatter": [
           {
            "fillpattern": {
             "fillmode": "overlay",
             "size": 10,
             "solidity": 0.2
            },
            "type": "scatter"
           }
          ],
          "scatter3d": [
           {
            "line": {
             "colorbar": {
              "outlinewidth": 0,
              "ticks": ""
             }
            },
            "marker": {
             "colorbar": {
              "outlinewidth": 0,
              "ticks": ""
             }
            },
            "type": "scatter3d"
           }
          ],
          "scattercarpet": [
           {
            "marker": {
             "colorbar": {
              "outlinewidth": 0,
              "ticks": ""
             }
            },
            "type": "scattercarpet"
           }
          ],
          "scattergeo": [
           {
            "marker": {
             "colorbar": {
              "outlinewidth": 0,
              "ticks": ""
             }
            },
            "type": "scattergeo"
           }
          ],
          "scattergl": [
           {
            "marker": {
             "colorbar": {
              "outlinewidth": 0,
              "ticks": ""
             }
            },
            "type": "scattergl"
           }
          ],
          "scattermapbox": [
           {
            "marker": {
             "colorbar": {
              "outlinewidth": 0,
              "ticks": ""
             }
            },
            "type": "scattermapbox"
           }
          ],
          "scatterpolar": [
           {
            "marker": {
             "colorbar": {
              "outlinewidth": 0,
              "ticks": ""
             }
            },
            "type": "scatterpolar"
           }
          ],
          "scatterpolargl": [
           {
            "marker": {
             "colorbar": {
              "outlinewidth": 0,
              "ticks": ""
             }
            },
            "type": "scatterpolargl"
           }
          ],
          "scatterternary": [
           {
            "marker": {
             "colorbar": {
              "outlinewidth": 0,
              "ticks": ""
             }
            },
            "type": "scatterternary"
           }
          ],
          "surface": [
           {
            "colorbar": {
             "outlinewidth": 0,
             "ticks": ""
            },
            "colorscale": [
             [
              0,
              "#0d0887"
             ],
             [
              0.1111111111111111,
              "#46039f"
             ],
             [
              0.2222222222222222,
              "#7201a8"
             ],
             [
              0.3333333333333333,
              "#9c179e"
             ],
             [
              0.4444444444444444,
              "#bd3786"
             ],
             [
              0.5555555555555556,
              "#d8576b"
             ],
             [
              0.6666666666666666,
              "#ed7953"
             ],
             [
              0.7777777777777778,
              "#fb9f3a"
             ],
             [
              0.8888888888888888,
              "#fdca26"
             ],
             [
              1,
              "#f0f921"
             ]
            ],
            "type": "surface"
           }
          ],
          "table": [
           {
            "cells": {
             "fill": {
              "color": "#EBF0F8"
             },
             "line": {
              "color": "white"
             }
            },
            "header": {
             "fill": {
              "color": "#C8D4E3"
             },
             "line": {
              "color": "white"
             }
            },
            "type": "table"
           }
          ]
         },
         "layout": {
          "annotationdefaults": {
           "arrowcolor": "#2a3f5f",
           "arrowhead": 0,
           "arrowwidth": 1
          },
          "autotypenumbers": "strict",
          "coloraxis": {
           "colorbar": {
            "outlinewidth": 0,
            "ticks": ""
           }
          },
          "colorscale": {
           "diverging": [
            [
             0,
             "#8e0152"
            ],
            [
             0.1,
             "#c51b7d"
            ],
            [
             0.2,
             "#de77ae"
            ],
            [
             0.3,
             "#f1b6da"
            ],
            [
             0.4,
             "#fde0ef"
            ],
            [
             0.5,
             "#f7f7f7"
            ],
            [
             0.6,
             "#e6f5d0"
            ],
            [
             0.7,
             "#b8e186"
            ],
            [
             0.8,
             "#7fbc41"
            ],
            [
             0.9,
             "#4d9221"
            ],
            [
             1,
             "#276419"
            ]
           ],
           "sequential": [
            [
             0,
             "#0d0887"
            ],
            [
             0.1111111111111111,
             "#46039f"
            ],
            [
             0.2222222222222222,
             "#7201a8"
            ],
            [
             0.3333333333333333,
             "#9c179e"
            ],
            [
             0.4444444444444444,
             "#bd3786"
            ],
            [
             0.5555555555555556,
             "#d8576b"
            ],
            [
             0.6666666666666666,
             "#ed7953"
            ],
            [
             0.7777777777777778,
             "#fb9f3a"
            ],
            [
             0.8888888888888888,
             "#fdca26"
            ],
            [
             1,
             "#f0f921"
            ]
           ],
           "sequentialminus": [
            [
             0,
             "#0d0887"
            ],
            [
             0.1111111111111111,
             "#46039f"
            ],
            [
             0.2222222222222222,
             "#7201a8"
            ],
            [
             0.3333333333333333,
             "#9c179e"
            ],
            [
             0.4444444444444444,
             "#bd3786"
            ],
            [
             0.5555555555555556,
             "#d8576b"
            ],
            [
             0.6666666666666666,
             "#ed7953"
            ],
            [
             0.7777777777777778,
             "#fb9f3a"
            ],
            [
             0.8888888888888888,
             "#fdca26"
            ],
            [
             1,
             "#f0f921"
            ]
           ]
          },
          "colorway": [
           "#636efa",
           "#EF553B",
           "#00cc96",
           "#ab63fa",
           "#FFA15A",
           "#19d3f3",
           "#FF6692",
           "#B6E880",
           "#FF97FF",
           "#FECB52"
          ],
          "font": {
           "color": "#2a3f5f"
          },
          "geo": {
           "bgcolor": "white",
           "lakecolor": "white",
           "landcolor": "#E5ECF6",
           "showlakes": true,
           "showland": true,
           "subunitcolor": "white"
          },
          "hoverlabel": {
           "align": "left"
          },
          "hovermode": "closest",
          "mapbox": {
           "style": "light"
          },
          "paper_bgcolor": "white",
          "plot_bgcolor": "#E5ECF6",
          "polar": {
           "angularaxis": {
            "gridcolor": "white",
            "linecolor": "white",
            "ticks": ""
           },
           "bgcolor": "#E5ECF6",
           "radialaxis": {
            "gridcolor": "white",
            "linecolor": "white",
            "ticks": ""
           }
          },
          "scene": {
           "xaxis": {
            "backgroundcolor": "#E5ECF6",
            "gridcolor": "white",
            "gridwidth": 2,
            "linecolor": "white",
            "showbackground": true,
            "ticks": "",
            "zerolinecolor": "white"
           },
           "yaxis": {
            "backgroundcolor": "#E5ECF6",
            "gridcolor": "white",
            "gridwidth": 2,
            "linecolor": "white",
            "showbackground": true,
            "ticks": "",
            "zerolinecolor": "white"
           },
           "zaxis": {
            "backgroundcolor": "#E5ECF6",
            "gridcolor": "white",
            "gridwidth": 2,
            "linecolor": "white",
            "showbackground": true,
            "ticks": "",
            "zerolinecolor": "white"
           }
          },
          "shapedefaults": {
           "line": {
            "color": "#2a3f5f"
           }
          },
          "ternary": {
           "aaxis": {
            "gridcolor": "white",
            "linecolor": "white",
            "ticks": ""
           },
           "baxis": {
            "gridcolor": "white",
            "linecolor": "white",
            "ticks": ""
           },
           "bgcolor": "#E5ECF6",
           "caxis": {
            "gridcolor": "white",
            "linecolor": "white",
            "ticks": ""
           }
          },
          "title": {
           "x": 0.05
          },
          "xaxis": {
           "automargin": true,
           "gridcolor": "white",
           "linecolor": "white",
           "ticks": "",
           "title": {
            "standoff": 15
           },
           "zerolinecolor": "white",
           "zerolinewidth": 2
          },
          "yaxis": {
           "automargin": true,
           "gridcolor": "white",
           "linecolor": "white",
           "ticks": "",
           "title": {
            "standoff": 15
           },
           "zerolinecolor": "white",
           "zerolinewidth": 2
          }
         }
        },
        "xaxis": {
         "anchor": "y",
         "domain": [
          0,
          1
         ],
         "range": [
          0,
          100
         ],
         "showgrid": false,
         "title": {
          "text": "Percentage of Region Population (%)"
         }
        },
        "yaxis": {
         "anchor": "x",
         "domain": [
          0,
          1
         ],
         "title": {}
        }
       }
      }
     },
     "metadata": {},
     "output_type": "display_data"
    }
   ],
   "source": [
    "import pandas as pd\n",
    "import plotly.express as px\n",
    "\n",
    "def prepare_data(df, group_name, color):\n",
    "    population_by_region = df.groupby(\"Region\")[\"population 2022\"].sum()\n",
    "    percentage_population = (population_by_region / pd.Series(total_population_by_region)) * 100\n",
    "    percentage_population_df = percentage_population.reset_index()\n",
    "    percentage_population_df.columns = [\"Region\", \"Percentage\"]\n",
    "    \n",
    "    hover_text_by_region = df.groupby(\"Region\").apply(\n",
    "        lambda x: \"<br>\".join(\n",
    "            f\"{country}: {liberal}\" \n",
    "            for country, liberal in zip(x['Country'], x['Conservative_Liberal'].round(2))\n",
    "        ),\n",
    "        include_groups=False\n",
    "    ).reset_index(name=\"hover_text\")\n",
    "    \n",
    "    percentage_population_df = percentage_population_df.merge(hover_text_by_region, on=\"Region\")\n",
    "    percentage_population_df[\"Group\"] = group_name\n",
    "    percentage_population_df[\"Color\"] = color\n",
    "    return percentage_population_df\n",
    "\n",
    "data_conservative = prepare_data(df2_minusOne_to_minusZeroFive, \"Conservative\", \"#3498db\")\n",
    "data_moderate_conservative = prepare_data(df2_minusZeroFive_to_zero, \"Moderate Conservative\", \"#60a7d7\")\n",
    "data_moderate_liberal = prepare_data(df2_zero_to_zeroFive, \"Moderate Liberal\", \"#de8378\")\n",
    "data_liberal = prepare_data(df2_zeroFive_to_one, \"Liberal\", \"#e74c3c\")\n",
    "\n",
    "all_data = pd.concat([\n",
    "    data_liberal,\n",
    "    data_moderate_liberal,\n",
    "    data_moderate_conservative,\n",
    "    data_conservative\n",
    "])\n",
    "\n",
    "fig = px.bar(\n",
    "    all_data,\n",
    "    y=\"Region\",\n",
    "    x=\"Percentage\",\n",
    "    color=\"Group\",\n",
    "    color_discrete_map={\n",
    "        \"Liberal\": \"#e74c3c\",\n",
    "        \"Moderate Liberal\": \"#de8378\",\n",
    "        \"Moderate Conservative\": \"#60a7d7\",\n",
    "        \"Conservative\": \"#3498db\",\n",
    "    },\n",
    "    orientation='h',\n",
    "    hover_data={\"Percentage\": ':.2f'},\n",
    "    custom_data=[\"hover_text\"]\n",
    ")\n",
    "\n",
    "fig.update_traces(\n",
    "    hovertemplate='%{customdata[0]}<extra></extra>',\n",
    "    marker_line_width=0,\n",
    "    hoverlabel=dict(bgcolor='#141313', font_color='white', font_size=16, font_family='sans-serif', bordercolor='rgba(0, 0, 0, 0)'),\n",
    ")\n",
    "\n",
    "fig.update_layout(\n",
    "    barmode='stack',\n",
    "    showlegend=True,\n",
    "    xaxis_title=\"Percentage of Region Population (%)\",\n",
    "    xaxis_range=[0, 100],\n",
    "    yaxis_title=None,\n",
    "    margin=dict(t=30, b=35, l=50, r=30),\n",
    "    paper_bgcolor='rgba(20, 20, 20, 0.01)',\n",
    "    plot_bgcolor='rgba(20, 20, 20, 0.01)',\n",
    "    font=dict(family='sans-serif', color='white', size=16, weight='bold'),\n",
    "    xaxis=dict(showgrid=False)\n",
    ")\n",
    "\n",
    "fig.show()\n",
    "fig.write_html(\"liberal_conservative.html\",config={\"displayModeBar\": False})"
   ]
  }
 ],
 "metadata": {
  "kernelspec": {
   "display_name": ".venv",
   "language": "python",
   "name": "python3"
  },
  "language_info": {
   "codemirror_mode": {
    "name": "ipython",
    "version": 3
   },
   "file_extension": ".py",
   "mimetype": "text/x-python",
   "name": "python",
   "nbconvert_exporter": "python",
   "pygments_lexer": "ipython3",
   "version": "3.12.5"
  }
 },
 "nbformat": 4,
 "nbformat_minor": 2
}
